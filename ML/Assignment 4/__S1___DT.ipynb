{
 "cells": [
  {
   "cell_type": "code",
   "execution_count": 1,
   "id": "4e3dbf6e",
   "metadata": {},
   "outputs": [],
   "source": [
    "import pandas as pd\n",
    "import numpy as np\n",
    "from sklearn.tree import DecisionTreeClassifier\n",
    "from sklearn import tree\n",
    "from sklearn.model_selection import train_test_split"
   ]
  },
  {
   "cell_type": "code",
   "execution_count": 28,
   "id": "d8ecfbf3",
   "metadata": {},
   "outputs": [],
   "source": [
    "df = pd.read_csv(r'C:\\Users\\kaush\\Desktop\\__ML__PR\\ML Dataset\\Decision Tree & Naive Bayes Classification\\madfhantr.csv')"
   ]
  },
  {
   "cell_type": "code",
   "execution_count": 29,
   "id": "b81f4025",
   "metadata": {},
   "outputs": [
    {
     "data": {
      "text/html": [
       "<div>\n",
       "<style scoped>\n",
       "    .dataframe tbody tr th:only-of-type {\n",
       "        vertical-align: middle;\n",
       "    }\n",
       "\n",
       "    .dataframe tbody tr th {\n",
       "        vertical-align: top;\n",
       "    }\n",
       "\n",
       "    .dataframe thead th {\n",
       "        text-align: right;\n",
       "    }\n",
       "</style>\n",
       "<table border=\"1\" class=\"dataframe\">\n",
       "  <thead>\n",
       "    <tr style=\"text-align: right;\">\n",
       "      <th></th>\n",
       "      <th>Loan_ID</th>\n",
       "      <th>Gender</th>\n",
       "      <th>Married</th>\n",
       "      <th>Dependents</th>\n",
       "      <th>Education</th>\n",
       "      <th>Self_Employed</th>\n",
       "      <th>ApplicantIncome</th>\n",
       "      <th>CoapplicantIncome</th>\n",
       "      <th>LoanAmount</th>\n",
       "      <th>Loan_Amount_Term</th>\n",
       "      <th>Credit_History</th>\n",
       "      <th>Property_Area</th>\n",
       "      <th>Loan_Status</th>\n",
       "    </tr>\n",
       "  </thead>\n",
       "  <tbody>\n",
       "    <tr>\n",
       "      <th>0</th>\n",
       "      <td>LP001002</td>\n",
       "      <td>Male</td>\n",
       "      <td>No</td>\n",
       "      <td>0</td>\n",
       "      <td>Graduate</td>\n",
       "      <td>No</td>\n",
       "      <td>5849</td>\n",
       "      <td>0.0</td>\n",
       "      <td>NaN</td>\n",
       "      <td>360.0</td>\n",
       "      <td>1.0</td>\n",
       "      <td>Urban</td>\n",
       "      <td>Y</td>\n",
       "    </tr>\n",
       "    <tr>\n",
       "      <th>1</th>\n",
       "      <td>LP001003</td>\n",
       "      <td>Male</td>\n",
       "      <td>Yes</td>\n",
       "      <td>1</td>\n",
       "      <td>Graduate</td>\n",
       "      <td>No</td>\n",
       "      <td>4583</td>\n",
       "      <td>1508.0</td>\n",
       "      <td>128.0</td>\n",
       "      <td>360.0</td>\n",
       "      <td>1.0</td>\n",
       "      <td>Rural</td>\n",
       "      <td>N</td>\n",
       "    </tr>\n",
       "    <tr>\n",
       "      <th>2</th>\n",
       "      <td>LP001005</td>\n",
       "      <td>Male</td>\n",
       "      <td>Yes</td>\n",
       "      <td>0</td>\n",
       "      <td>Graduate</td>\n",
       "      <td>Yes</td>\n",
       "      <td>3000</td>\n",
       "      <td>0.0</td>\n",
       "      <td>66.0</td>\n",
       "      <td>360.0</td>\n",
       "      <td>1.0</td>\n",
       "      <td>Urban</td>\n",
       "      <td>Y</td>\n",
       "    </tr>\n",
       "    <tr>\n",
       "      <th>3</th>\n",
       "      <td>LP001006</td>\n",
       "      <td>Male</td>\n",
       "      <td>Yes</td>\n",
       "      <td>0</td>\n",
       "      <td>Not Graduate</td>\n",
       "      <td>No</td>\n",
       "      <td>2583</td>\n",
       "      <td>2358.0</td>\n",
       "      <td>120.0</td>\n",
       "      <td>360.0</td>\n",
       "      <td>1.0</td>\n",
       "      <td>Urban</td>\n",
       "      <td>Y</td>\n",
       "    </tr>\n",
       "    <tr>\n",
       "      <th>4</th>\n",
       "      <td>LP001008</td>\n",
       "      <td>Male</td>\n",
       "      <td>No</td>\n",
       "      <td>0</td>\n",
       "      <td>Graduate</td>\n",
       "      <td>No</td>\n",
       "      <td>6000</td>\n",
       "      <td>0.0</td>\n",
       "      <td>141.0</td>\n",
       "      <td>360.0</td>\n",
       "      <td>1.0</td>\n",
       "      <td>Urban</td>\n",
       "      <td>Y</td>\n",
       "    </tr>\n",
       "  </tbody>\n",
       "</table>\n",
       "</div>"
      ],
      "text/plain": [
       "    Loan_ID Gender Married Dependents     Education Self_Employed  \\\n",
       "0  LP001002   Male      No          0      Graduate            No   \n",
       "1  LP001003   Male     Yes          1      Graduate            No   \n",
       "2  LP001005   Male     Yes          0      Graduate           Yes   \n",
       "3  LP001006   Male     Yes          0  Not Graduate            No   \n",
       "4  LP001008   Male      No          0      Graduate            No   \n",
       "\n",
       "   ApplicantIncome  CoapplicantIncome  LoanAmount  Loan_Amount_Term  \\\n",
       "0             5849                0.0         NaN             360.0   \n",
       "1             4583             1508.0       128.0             360.0   \n",
       "2             3000                0.0        66.0             360.0   \n",
       "3             2583             2358.0       120.0             360.0   \n",
       "4             6000                0.0       141.0             360.0   \n",
       "\n",
       "   Credit_History Property_Area Loan_Status  \n",
       "0             1.0         Urban           Y  \n",
       "1             1.0         Rural           N  \n",
       "2             1.0         Urban           Y  \n",
       "3             1.0         Urban           Y  \n",
       "4             1.0         Urban           Y  "
      ]
     },
     "execution_count": 29,
     "metadata": {},
     "output_type": "execute_result"
    }
   ],
   "source": [
    "df.head()"
   ]
  },
  {
   "cell_type": "code",
   "execution_count": 30,
   "id": "5b2945b7",
   "metadata": {},
   "outputs": [],
   "source": [
    "df.dropna(inplace=True)"
   ]
  },
  {
   "cell_type": "code",
   "execution_count": 31,
   "id": "c460f820",
   "metadata": {},
   "outputs": [],
   "source": [
    "df['Loan_ID'] = df['Loan_ID'].apply(lambda x : x[2:])"
   ]
  },
  {
   "cell_type": "code",
   "execution_count": 32,
   "id": "ec07aca0",
   "metadata": {},
   "outputs": [],
   "source": [
    "df['Gender'] = df['Gender'].apply(lambda x : 1 if(x=='Male') else 0)"
   ]
  },
  {
   "cell_type": "code",
   "execution_count": 35,
   "id": "7fa12dfd",
   "metadata": {},
   "outputs": [],
   "source": [
    "df['Education'] = df['Education'].apply(lambda x : 1 if(x=='Graduate') else 0)"
   ]
  },
  {
   "cell_type": "code",
   "execution_count": 38,
   "id": "9c5d1a6b",
   "metadata": {},
   "outputs": [],
   "source": [
    "df['Married'] = df['Married'].apply(lambda x : 1 if(x=='Yes') else 0)"
   ]
  },
  {
   "cell_type": "code",
   "execution_count": 40,
   "id": "aa2bf083",
   "metadata": {},
   "outputs": [],
   "source": [
    "df['Rural'] = df['Property_Area'].apply(lambda x : 1 if(x=='Rural') else 0)"
   ]
  },
  {
   "cell_type": "code",
   "execution_count": 42,
   "id": "bfe3b087",
   "metadata": {},
   "outputs": [],
   "source": [
    "df['Semiurban'] = df['Property_Area'].apply(lambda x : 1 if(x=='Semiurban') else 0)"
   ]
  },
  {
   "cell_type": "code",
   "execution_count": 43,
   "id": "378ae4ca",
   "metadata": {},
   "outputs": [],
   "source": [
    "df['Urban'] = df['Property_Area'].apply(lambda x : 1 if(x=='Urban') else 0)"
   ]
  },
  {
   "cell_type": "code",
   "execution_count": 48,
   "id": "2d580460",
   "metadata": {},
   "outputs": [],
   "source": [
    "df['Self_Employed'] = df['Self_Employed'].apply(lambda x : 1 if(x=='Yes') else 0)"
   ]
  },
  {
   "cell_type": "code",
   "execution_count": 62,
   "id": "8f3321c0",
   "metadata": {},
   "outputs": [],
   "source": [
    "df['Dependents'] = df['Dependents'].apply(lambda x : int(x[:-1]) if(x[-1]=='+') else int(x)) "
   ]
  },
  {
   "cell_type": "code",
   "execution_count": 44,
   "id": "22e4332e",
   "metadata": {},
   "outputs": [],
   "source": [
    "df['Loan_Status'] = df['Loan_Status'].apply(lambda x : 1 if(x=='Y') else 0)"
   ]
  },
  {
   "cell_type": "code",
   "execution_count": 46,
   "id": "0d0c81a1",
   "metadata": {},
   "outputs": [],
   "source": [
    "df.drop(['Property_Area'],axis = 1,inplace=True)"
   ]
  },
  {
   "cell_type": "code",
   "execution_count": 63,
   "id": "cbc5746b",
   "metadata": {},
   "outputs": [
    {
     "data": {
      "text/html": [
       "<div>\n",
       "<style scoped>\n",
       "    .dataframe tbody tr th:only-of-type {\n",
       "        vertical-align: middle;\n",
       "    }\n",
       "\n",
       "    .dataframe tbody tr th {\n",
       "        vertical-align: top;\n",
       "    }\n",
       "\n",
       "    .dataframe thead th {\n",
       "        text-align: right;\n",
       "    }\n",
       "</style>\n",
       "<table border=\"1\" class=\"dataframe\">\n",
       "  <thead>\n",
       "    <tr style=\"text-align: right;\">\n",
       "      <th></th>\n",
       "      <th>Loan_ID</th>\n",
       "      <th>Gender</th>\n",
       "      <th>Married</th>\n",
       "      <th>Dependents</th>\n",
       "      <th>Education</th>\n",
       "      <th>Self_Employed</th>\n",
       "      <th>ApplicantIncome</th>\n",
       "      <th>CoapplicantIncome</th>\n",
       "      <th>LoanAmount</th>\n",
       "      <th>Loan_Amount_Term</th>\n",
       "      <th>Credit_History</th>\n",
       "      <th>Loan_Status</th>\n",
       "      <th>Rural</th>\n",
       "      <th>Semiurban</th>\n",
       "      <th>Urban</th>\n",
       "    </tr>\n",
       "  </thead>\n",
       "  <tbody>\n",
       "    <tr>\n",
       "      <th>1</th>\n",
       "      <td>001003</td>\n",
       "      <td>1</td>\n",
       "      <td>0</td>\n",
       "      <td>1</td>\n",
       "      <td>0</td>\n",
       "      <td>0</td>\n",
       "      <td>4583</td>\n",
       "      <td>1508.0</td>\n",
       "      <td>128.0</td>\n",
       "      <td>360.0</td>\n",
       "      <td>1.0</td>\n",
       "      <td>0</td>\n",
       "      <td>1</td>\n",
       "      <td>0</td>\n",
       "      <td>0</td>\n",
       "    </tr>\n",
       "    <tr>\n",
       "      <th>2</th>\n",
       "      <td>001005</td>\n",
       "      <td>1</td>\n",
       "      <td>0</td>\n",
       "      <td>0</td>\n",
       "      <td>0</td>\n",
       "      <td>1</td>\n",
       "      <td>3000</td>\n",
       "      <td>0.0</td>\n",
       "      <td>66.0</td>\n",
       "      <td>360.0</td>\n",
       "      <td>1.0</td>\n",
       "      <td>1</td>\n",
       "      <td>0</td>\n",
       "      <td>0</td>\n",
       "      <td>1</td>\n",
       "    </tr>\n",
       "    <tr>\n",
       "      <th>3</th>\n",
       "      <td>001006</td>\n",
       "      <td>1</td>\n",
       "      <td>0</td>\n",
       "      <td>0</td>\n",
       "      <td>0</td>\n",
       "      <td>0</td>\n",
       "      <td>2583</td>\n",
       "      <td>2358.0</td>\n",
       "      <td>120.0</td>\n",
       "      <td>360.0</td>\n",
       "      <td>1.0</td>\n",
       "      <td>1</td>\n",
       "      <td>0</td>\n",
       "      <td>0</td>\n",
       "      <td>1</td>\n",
       "    </tr>\n",
       "    <tr>\n",
       "      <th>4</th>\n",
       "      <td>001008</td>\n",
       "      <td>1</td>\n",
       "      <td>0</td>\n",
       "      <td>0</td>\n",
       "      <td>0</td>\n",
       "      <td>0</td>\n",
       "      <td>6000</td>\n",
       "      <td>0.0</td>\n",
       "      <td>141.0</td>\n",
       "      <td>360.0</td>\n",
       "      <td>1.0</td>\n",
       "      <td>1</td>\n",
       "      <td>0</td>\n",
       "      <td>0</td>\n",
       "      <td>1</td>\n",
       "    </tr>\n",
       "    <tr>\n",
       "      <th>5</th>\n",
       "      <td>001011</td>\n",
       "      <td>1</td>\n",
       "      <td>0</td>\n",
       "      <td>2</td>\n",
       "      <td>0</td>\n",
       "      <td>1</td>\n",
       "      <td>5417</td>\n",
       "      <td>4196.0</td>\n",
       "      <td>267.0</td>\n",
       "      <td>360.0</td>\n",
       "      <td>1.0</td>\n",
       "      <td>1</td>\n",
       "      <td>0</td>\n",
       "      <td>0</td>\n",
       "      <td>1</td>\n",
       "    </tr>\n",
       "  </tbody>\n",
       "</table>\n",
       "</div>"
      ],
      "text/plain": [
       "  Loan_ID  Gender  Married  Dependents  Education  Self_Employed  \\\n",
       "1  001003       1        0           1          0              0   \n",
       "2  001005       1        0           0          0              1   \n",
       "3  001006       1        0           0          0              0   \n",
       "4  001008       1        0           0          0              0   \n",
       "5  001011       1        0           2          0              1   \n",
       "\n",
       "   ApplicantIncome  CoapplicantIncome  LoanAmount  Loan_Amount_Term  \\\n",
       "1             4583             1508.0       128.0             360.0   \n",
       "2             3000                0.0        66.0             360.0   \n",
       "3             2583             2358.0       120.0             360.0   \n",
       "4             6000                0.0       141.0             360.0   \n",
       "5             5417             4196.0       267.0             360.0   \n",
       "\n",
       "   Credit_History  Loan_Status  Rural  Semiurban  Urban  \n",
       "1             1.0            0      1          0      0  \n",
       "2             1.0            1      0          0      1  \n",
       "3             1.0            1      0          0      1  \n",
       "4             1.0            1      0          0      1  \n",
       "5             1.0            1      0          0      1  "
      ]
     },
     "execution_count": 63,
     "metadata": {},
     "output_type": "execute_result"
    }
   ],
   "source": [
    "df.head()"
   ]
  },
  {
   "cell_type": "code",
   "execution_count": 64,
   "id": "eabd81fa",
   "metadata": {},
   "outputs": [],
   "source": [
    "dt = DecisionTreeClassifier()"
   ]
  },
  {
   "cell_type": "code",
   "execution_count": 65,
   "id": "314a2c79",
   "metadata": {},
   "outputs": [],
   "source": [
    "target = df['Loan_Status']"
   ]
  },
  {
   "cell_type": "code",
   "execution_count": 66,
   "id": "5a7de4b4",
   "metadata": {},
   "outputs": [],
   "source": [
    "inp = df.drop(['Loan_Status'],axis=1)"
   ]
  },
  {
   "cell_type": "code",
   "execution_count": 67,
   "id": "07097505",
   "metadata": {},
   "outputs": [],
   "source": [
    "x_train,x_test,y_train,y_test = train_test_split(inp,target)"
   ]
  },
  {
   "cell_type": "code",
   "execution_count": 69,
   "id": "5d697eac",
   "metadata": {},
   "outputs": [
    {
     "data": {
      "text/plain": [
       "DecisionTreeClassifier()"
      ]
     },
     "execution_count": 69,
     "metadata": {},
     "output_type": "execute_result"
    }
   ],
   "source": [
    "dt.fit(x_train,y_train)"
   ]
  },
  {
   "cell_type": "code",
   "execution_count": 70,
   "id": "6ac397e4",
   "metadata": {},
   "outputs": [],
   "source": [
    "yhat = dt.predict(x_test)"
   ]
  },
  {
   "cell_type": "code",
   "execution_count": 73,
   "id": "11cc4bf3",
   "metadata": {},
   "outputs": [
    {
     "data": {
      "text/plain": [
       "0.7"
      ]
     },
     "execution_count": 73,
     "metadata": {},
     "output_type": "execute_result"
    }
   ],
   "source": [
    "dt.score(x_test,y_test)"
   ]
  },
  {
   "cell_type": "code",
   "execution_count": 75,
   "id": "80ccac1a",
   "metadata": {},
   "outputs": [],
   "source": [
    "import matplotlib.pyplot as plt"
   ]
  },
  {
   "cell_type": "code",
   "execution_count": 79,
   "id": "111efe71",
   "metadata": {},
   "outputs": [
    {
     "data": {
      "text/plain": [
       "<Figure size 2500x2500 with 0 Axes>"
      ]
     },
     "execution_count": 79,
     "metadata": {},
     "output_type": "execute_result"
    },
    {
     "data": {
      "text/plain": [
       "<Figure size 2500x2500 with 0 Axes>"
      ]
     },
     "metadata": {},
     "output_type": "display_data"
    }
   ],
   "source": [
    "plt.figure(figsize=(50,50),dpi=50)"
   ]
  },
  {
   "cell_type": "code",
   "execution_count": 77,
   "id": "66c43336",
   "metadata": {},
   "outputs": [
    {
     "data": {
      "text/plain": [
       "[Text(109.7546723300971, 211.04470588235293, 'X[10] <= 0.5\\ngini = 0.411\\nsamples = 360\\nvalue = [104, 256]'),\n",
       " Text(22.75339805825243, 198.25411764705882, 'X[8] <= 129.0\\ngini = 0.208\\nsamples = 51\\nvalue = [45, 6]'),\n",
       " Text(16.252427184466022, 185.4635294117647, 'gini = 0.0\\nsamples = 28\\nvalue = [28, 0]'),\n",
       " Text(29.254368932038837, 185.4635294117647, 'X[0] <= 2191.5\\ngini = 0.386\\nsamples = 23\\nvalue = [17, 6]'),\n",
       " Text(16.252427184466022, 172.6729411764706, 'X[7] <= 2157.5\\ngini = 0.496\\nsamples = 11\\nvalue = [6, 5]'),\n",
       " Text(9.751456310679613, 159.88235294117646, 'gini = 0.0\\nsamples = 4\\nvalue = [0, 4]'),\n",
       " Text(22.75339805825243, 159.88235294117646, 'X[8] <= 147.5\\ngini = 0.245\\nsamples = 7\\nvalue = [6, 1]'),\n",
       " Text(16.252427184466022, 147.09176470588235, 'gini = 0.0\\nsamples = 1\\nvalue = [0, 1]'),\n",
       " Text(29.254368932038837, 147.09176470588235, 'gini = 0.0\\nsamples = 6\\nvalue = [6, 0]'),\n",
       " Text(42.25631067961165, 172.6729411764706, 'X[12] <= 0.5\\ngini = 0.153\\nsamples = 12\\nvalue = [11, 1]'),\n",
       " Text(35.755339805825244, 159.88235294117646, 'gini = 0.0\\nsamples = 9\\nvalue = [9, 0]'),\n",
       " Text(48.75728155339806, 159.88235294117646, 'X[8] <= 156.5\\ngini = 0.444\\nsamples = 3\\nvalue = [2, 1]'),\n",
       " Text(42.25631067961165, 147.09176470588235, 'gini = 0.0\\nsamples = 2\\nvalue = [2, 0]'),\n",
       " Text(55.25825242718447, 147.09176470588235, 'gini = 0.0\\nsamples = 1\\nvalue = [0, 1]'),\n",
       " Text(196.75594660194176, 198.25411764705882, 'X[8] <= 159.0\\ngini = 0.309\\nsamples = 309\\nvalue = [59, 250]'),\n",
       " Text(108.28179611650486, 185.4635294117647, 'X[9] <= 48.0\\ngini = 0.242\\nsamples = 220\\nvalue = [31, 189]'),\n",
       " Text(101.78082524271845, 172.6729411764706, 'gini = 0.0\\nsamples = 2\\nvalue = [2, 0]'),\n",
       " Text(114.78276699029126, 172.6729411764706, 'X[0] <= 1186.5\\ngini = 0.231\\nsamples = 218\\nvalue = [29, 189]'),\n",
       " Text(74.76116504854369, 159.88235294117646, 'X[11] <= 0.5\\ngini = 0.454\\nsamples = 23\\nvalue = [8, 15]'),\n",
       " Text(68.26019417475729, 147.09176470588235, 'X[0] <= 1160.5\\ngini = 0.332\\nsamples = 19\\nvalue = [4, 15]'),\n",
       " Text(61.75922330097088, 134.30117647058825, 'X[7] <= 350.0\\ngini = 0.208\\nsamples = 17\\nvalue = [2, 15]'),\n",
       " Text(55.25825242718447, 121.51058823529411, 'X[6] <= 4275.0\\ngini = 0.408\\nsamples = 7\\nvalue = [2, 5]'),\n",
       " Text(48.75728155339806, 108.72, 'X[6] <= 3126.5\\ngini = 0.5\\nsamples = 4\\nvalue = [2, 2]'),\n",
       " Text(42.25631067961165, 95.92941176470588, 'gini = 0.0\\nsamples = 2\\nvalue = [0, 2]'),\n",
       " Text(55.25825242718447, 95.92941176470588, 'gini = 0.0\\nsamples = 2\\nvalue = [2, 0]'),\n",
       " Text(61.75922330097088, 108.72, 'gini = 0.0\\nsamples = 3\\nvalue = [0, 3]'),\n",
       " Text(68.26019417475729, 121.51058823529411, 'gini = 0.0\\nsamples = 10\\nvalue = [0, 10]'),\n",
       " Text(74.76116504854369, 134.30117647058825, 'gini = 0.0\\nsamples = 2\\nvalue = [2, 0]'),\n",
       " Text(81.2621359223301, 147.09176470588235, 'gini = 0.0\\nsamples = 4\\nvalue = [4, 0]'),\n",
       " Text(154.80436893203884, 159.88235294117646, 'X[9] <= 420.0\\ngini = 0.192\\nsamples = 195\\nvalue = [21, 174]'),\n",
       " Text(124.33106796116506, 147.09176470588235, 'X[6] <= 1012.5\\ngini = 0.172\\nsamples = 189\\nvalue = [18, 171]'),\n",
       " Text(117.83009708737865, 134.30117647058825, 'gini = 0.0\\nsamples = 1\\nvalue = [1, 0]'),\n",
       " Text(130.83203883495148, 134.30117647058825, 'X[5] <= 0.5\\ngini = 0.164\\nsamples = 188\\nvalue = [17, 171]'),\n",
       " Text(102.39029126213593, 121.51058823529411, 'X[7] <= 6183.5\\ngini = 0.133\\nsamples = 167\\nvalue = [12, 155]'),\n",
       " Text(84.5126213592233, 108.72, 'X[12] <= 0.5\\ngini = 0.124\\nsamples = 165\\nvalue = [11, 154]'),\n",
       " Text(68.26019417475729, 95.92941176470588, 'X[8] <= 114.0\\ngini = 0.185\\nsamples = 97\\nvalue = [10, 87]'),\n",
       " Text(55.25825242718447, 83.13882352941175, 'X[7] <= 2849.0\\ngini = 0.282\\nsamples = 53\\nvalue = [9, 44]'),\n",
       " Text(48.75728155339806, 70.34823529411764, 'X[7] <= 1343.5\\ngini = 0.26\\nsamples = 52\\nvalue = [8, 44]'),\n",
       " Text(42.25631067961165, 57.557647058823534, 'X[13] <= 0.5\\ngini = 0.367\\nsamples = 33\\nvalue = [8, 25]'),\n",
       " Text(26.003883495145633, 44.767058823529396, 'X[0] <= 2368.0\\ngini = 0.48\\nsamples = 15\\nvalue = [6, 9]'),\n",
       " Text(13.001941747572817, 31.976470588235287, 'X[6] <= 2247.0\\ngini = 0.408\\nsamples = 7\\nvalue = [5, 2]'),\n",
       " Text(6.500970873786408, 19.185882352941178, 'gini = 0.0\\nsamples = 1\\nvalue = [0, 1]'),\n",
       " Text(19.502912621359226, 19.185882352941178, 'X[6] <= 4745.5\\ngini = 0.278\\nsamples = 6\\nvalue = [5, 1]'),\n",
       " Text(13.001941747572817, 6.39529411764704, 'gini = 0.0\\nsamples = 5\\nvalue = [5, 0]'),\n",
       " Text(26.003883495145633, 6.39529411764704, 'gini = 0.0\\nsamples = 1\\nvalue = [0, 1]'),\n",
       " Text(39.00582524271845, 31.976470588235287, 'X[7] <= 651.56\\ngini = 0.219\\nsamples = 8\\nvalue = [1, 7]'),\n",
       " Text(32.504854368932044, 19.185882352941178, 'gini = 0.0\\nsamples = 7\\nvalue = [0, 7]'),\n",
       " Text(45.50679611650486, 19.185882352941178, 'gini = 0.0\\nsamples = 1\\nvalue = [1, 0]'),\n",
       " Text(58.50873786407767, 44.767058823529396, 'X[0] <= 2119.0\\ngini = 0.198\\nsamples = 18\\nvalue = [2, 16]'),\n",
       " Text(52.007766990291266, 31.976470588235287, 'gini = 0.0\\nsamples = 11\\nvalue = [0, 11]'),\n",
       " Text(65.00970873786409, 31.976470588235287, 'X[0] <= 2286.5\\ngini = 0.408\\nsamples = 7\\nvalue = [2, 5]'),\n",
       " Text(58.50873786407767, 19.185882352941178, 'gini = 0.0\\nsamples = 2\\nvalue = [2, 0]'),\n",
       " Text(71.51067961165049, 19.185882352941178, 'gini = 0.0\\nsamples = 5\\nvalue = [0, 5]'),\n",
       " Text(55.25825242718447, 57.557647058823534, 'gini = 0.0\\nsamples = 19\\nvalue = [0, 19]'),\n",
       " Text(61.75922330097088, 70.34823529411764, 'gini = 0.0\\nsamples = 1\\nvalue = [1, 0]'),\n",
       " Text(81.2621359223301, 83.13882352941175, 'X[9] <= 270.0\\ngini = 0.044\\nsamples = 44\\nvalue = [1, 43]'),\n",
       " Text(74.76116504854369, 70.34823529411764, 'X[6] <= 2737.5\\ngini = 0.278\\nsamples = 6\\nvalue = [1, 5]'),\n",
       " Text(68.26019417475729, 57.557647058823534, 'gini = 0.0\\nsamples = 1\\nvalue = [1, 0]'),\n",
       " Text(81.2621359223301, 57.557647058823534, 'gini = 0.0\\nsamples = 5\\nvalue = [0, 5]'),\n",
       " Text(87.76310679611652, 70.34823529411764, 'gini = 0.0\\nsamples = 38\\nvalue = [0, 38]'),\n",
       " Text(100.76504854368933, 95.92941176470588, 'X[6] <= 6328.0\\ngini = 0.029\\nsamples = 68\\nvalue = [1, 67]'),\n",
       " Text(94.26407766990292, 83.13882352941175, 'gini = 0.0\\nsamples = 65\\nvalue = [0, 65]'),\n",
       " Text(107.26601941747573, 83.13882352941175, 'X[3] <= 1.5\\ngini = 0.444\\nsamples = 3\\nvalue = [1, 2]'),\n",
       " Text(100.76504854368933, 70.34823529411764, 'gini = 0.0\\nsamples = 2\\nvalue = [0, 2]'),\n",
       " Text(113.76699029126215, 70.34823529411764, 'gini = 0.0\\nsamples = 1\\nvalue = [1, 0]'),\n",
       " Text(120.26796116504855, 108.72, 'X[6] <= 2315.0\\ngini = 0.5\\nsamples = 2\\nvalue = [1, 1]'),\n",
       " Text(113.76699029126215, 95.92941176470588, 'gini = 0.0\\nsamples = 1\\nvalue = [1, 0]'),\n",
       " Text(126.76893203883496, 95.92941176470588, 'gini = 0.0\\nsamples = 1\\nvalue = [0, 1]'),\n",
       " Text(159.273786407767, 121.51058823529411, 'X[9] <= 330.0\\ngini = 0.363\\nsamples = 21\\nvalue = [5, 16]'),\n",
       " Text(146.27184466019418, 108.72, 'X[7] <= 858.5\\ngini = 0.444\\nsamples = 3\\nvalue = [2, 1]'),\n",
       " Text(139.77087378640778, 95.92941176470588, 'gini = 0.0\\nsamples = 1\\nvalue = [0, 1]'),\n",
       " Text(152.7728155339806, 95.92941176470588, 'gini = 0.0\\nsamples = 2\\nvalue = [2, 0]'),\n",
       " Text(172.2757281553398, 108.72, 'X[8] <= 153.5\\ngini = 0.278\\nsamples = 18\\nvalue = [3, 15]'),\n",
       " Text(165.7747572815534, 95.92941176470588, 'X[8] <= 91.0\\ngini = 0.208\\nsamples = 17\\nvalue = [2, 15]'),\n",
       " Text(159.273786407767, 83.13882352941175, 'X[6] <= 5714.5\\ngini = 0.5\\nsamples = 4\\nvalue = [2, 2]'),\n",
       " Text(152.7728155339806, 70.34823529411764, 'gini = 0.0\\nsamples = 2\\nvalue = [2, 0]'),\n",
       " Text(165.7747572815534, 70.34823529411764, 'gini = 0.0\\nsamples = 2\\nvalue = [0, 2]'),\n",
       " Text(172.2757281553398, 83.13882352941175, 'gini = 0.0\\nsamples = 13\\nvalue = [0, 13]'),\n",
       " Text(178.77669902912623, 95.92941176470588, 'gini = 0.0\\nsamples = 1\\nvalue = [1, 0]'),\n",
       " Text(185.27766990291263, 147.09176470588235, 'X[3] <= 0.5\\ngini = 0.5\\nsamples = 6\\nvalue = [3, 3]'),\n",
       " Text(178.77669902912623, 134.30117647058825, 'X[6] <= 1572.5\\ngini = 0.375\\nsamples = 4\\nvalue = [3, 1]'),\n",
       " Text(172.2757281553398, 121.51058823529411, 'gini = 0.0\\nsamples = 1\\nvalue = [0, 1]'),\n",
       " Text(185.27766990291263, 121.51058823529411, 'gini = 0.0\\nsamples = 3\\nvalue = [3, 0]'),\n",
       " Text(191.77864077669904, 134.30117647058825, 'gini = 0.0\\nsamples = 2\\nvalue = [0, 2]'),\n",
       " Text(285.2300970873787, 185.4635294117647, 'X[6] <= 19607.0\\ngini = 0.431\\nsamples = 89\\nvalue = [28, 61]'),\n",
       " Text(278.7291262135923, 172.6729411764706, 'X[7] <= 9537.0\\ngini = 0.412\\nsamples = 86\\nvalue = [25, 61]'),\n",
       " Text(272.2281553398058, 159.88235294117646, 'X[7] <= 4181.5\\ngini = 0.398\\nsamples = 84\\nvalue = [23, 61]'),\n",
       " Text(245.41165048543692, 147.09176470588235, 'X[8] <= 174.0\\ngini = 0.438\\nsamples = 68\\nvalue = [22, 46]'),\n",
       " Text(211.28155339805826, 134.30117647058825, 'X[7] <= 1980.0\\ngini = 0.498\\nsamples = 15\\nvalue = [8, 7]'),\n",
       " Text(198.27961165048546, 121.51058823529411, 'X[11] <= 0.5\\ngini = 0.278\\nsamples = 6\\nvalue = [5, 1]'),\n",
       " Text(191.77864077669904, 108.72, 'gini = 0.0\\nsamples = 4\\nvalue = [4, 0]'),\n",
       " Text(204.78058252427186, 108.72, 'X[6] <= 4073.5\\ngini = 0.5\\nsamples = 2\\nvalue = [1, 1]'),\n",
       " Text(198.27961165048546, 95.92941176470588, 'gini = 0.0\\nsamples = 1\\nvalue = [1, 0]'),\n",
       " Text(211.28155339805826, 95.92941176470588, 'gini = 0.0\\nsamples = 1\\nvalue = [0, 1]'),\n",
       " Text(224.2834951456311, 121.51058823529411, 'X[8] <= 166.0\\ngini = 0.444\\nsamples = 9\\nvalue = [3, 6]'),\n",
       " Text(217.78252427184466, 108.72, 'gini = 0.0\\nsamples = 4\\nvalue = [0, 4]'),\n",
       " Text(230.7844660194175, 108.72, 'X[7] <= 3033.0\\ngini = 0.48\\nsamples = 5\\nvalue = [3, 2]'),\n",
       " Text(224.2834951456311, 95.92941176470588, 'gini = 0.0\\nsamples = 3\\nvalue = [3, 0]'),\n",
       " Text(237.2854368932039, 95.92941176470588, 'gini = 0.0\\nsamples = 2\\nvalue = [0, 2]'),\n",
       " Text(279.54174757281555, 134.30117647058825, 'X[7] <= 500.0\\ngini = 0.389\\nsamples = 53\\nvalue = [14, 39]'),\n",
       " Text(263.28932038834955, 121.51058823529411, 'X[6] <= 10069.5\\ngini = 0.257\\nsamples = 33\\nvalue = [5, 28]'),\n",
       " Text(256.78834951456315, 108.72, 'X[8] <= 193.0\\ngini = 0.351\\nsamples = 22\\nvalue = [5, 17]'),\n",
       " Text(250.28737864077672, 95.92941176470588, 'gini = 0.0\\nsamples = 8\\nvalue = [0, 8]'),\n",
       " Text(263.28932038834955, 95.92941176470588, 'X[0] <= 1571.0\\ngini = 0.459\\nsamples = 14\\nvalue = [5, 9]'),\n",
       " Text(256.78834951456315, 83.13882352941175, 'gini = 0.0\\nsamples = 2\\nvalue = [2, 0]'),\n",
       " Text(269.79029126213595, 83.13882352941175, 'X[0] <= 2281.5\\ngini = 0.375\\nsamples = 12\\nvalue = [3, 9]'),\n",
       " Text(256.78834951456315, 70.34823529411764, 'X[6] <= 9752.0\\ngini = 0.198\\nsamples = 9\\nvalue = [1, 8]'),\n",
       " Text(250.28737864077672, 57.557647058823534, 'gini = 0.0\\nsamples = 8\\nvalue = [0, 8]'),\n",
       " Text(263.28932038834955, 57.557647058823534, 'gini = 0.0\\nsamples = 1\\nvalue = [1, 0]'),\n",
       " Text(282.79223300970875, 70.34823529411764, 'X[5] <= 0.5\\ngini = 0.444\\nsamples = 3\\nvalue = [2, 1]'),\n",
       " Text(276.29126213592235, 57.557647058823534, 'gini = 0.0\\nsamples = 1\\nvalue = [0, 1]'),\n",
       " Text(289.29320388349515, 57.557647058823534, 'gini = 0.0\\nsamples = 2\\nvalue = [2, 0]'),\n",
       " Text(269.79029126213595, 108.72, 'gini = 0.0\\nsamples = 11\\nvalue = [0, 11]'),\n",
       " Text(295.79417475728155, 121.51058823529411, 'X[11] <= 0.5\\ngini = 0.495\\nsamples = 20\\nvalue = [9, 11]'),\n",
       " Text(282.79223300970875, 108.72, 'X[0] <= 2661.5\\ngini = 0.298\\nsamples = 11\\nvalue = [2, 9]'),\n",
       " Text(276.29126213592235, 95.92941176470588, 'gini = 0.0\\nsamples = 8\\nvalue = [0, 8]'),\n",
       " Text(289.29320388349515, 95.92941176470588, 'X[6] <= 4050.0\\ngini = 0.444\\nsamples = 3\\nvalue = [2, 1]'),\n",
       " Text(282.79223300970875, 83.13882352941175, 'gini = 0.0\\nsamples = 1\\nvalue = [0, 1]'),\n",
       " Text(295.79417475728155, 83.13882352941175, 'gini = 0.0\\nsamples = 2\\nvalue = [2, 0]'),\n",
       " Text(308.7961165048544, 108.72, 'X[6] <= 4671.0\\ngini = 0.346\\nsamples = 9\\nvalue = [7, 2]'),\n",
       " Text(302.295145631068, 95.92941176470588, 'gini = 0.0\\nsamples = 1\\nvalue = [0, 1]'),\n",
       " Text(315.2970873786408, 95.92941176470588, 'X[7] <= 3708.0\\ngini = 0.219\\nsamples = 8\\nvalue = [7, 1]'),\n",
       " Text(308.7961165048544, 83.13882352941175, 'gini = 0.0\\nsamples = 6\\nvalue = [6, 0]'),\n",
       " Text(321.7980582524272, 83.13882352941175, 'X[6] <= 8541.5\\ngini = 0.5\\nsamples = 2\\nvalue = [1, 1]'),\n",
       " Text(315.2970873786408, 70.34823529411764, 'gini = 0.0\\nsamples = 1\\nvalue = [0, 1]'),\n",
       " Text(328.2990291262136, 70.34823529411764, 'gini = 0.0\\nsamples = 1\\nvalue = [1, 0]'),\n",
       " Text(299.04466019417475, 147.09176470588235, 'X[3] <= 2.5\\ngini = 0.117\\nsamples = 16\\nvalue = [1, 15]'),\n",
       " Text(292.54368932038835, 134.30117647058825, 'gini = 0.0\\nsamples = 15\\nvalue = [0, 15]'),\n",
       " Text(305.5456310679612, 134.30117647058825, 'gini = 0.0\\nsamples = 1\\nvalue = [1, 0]'),\n",
       " Text(285.2300970873787, 159.88235294117646, 'gini = 0.0\\nsamples = 2\\nvalue = [2, 0]'),\n",
       " Text(291.7310679611651, 172.6729411764706, 'gini = 0.0\\nsamples = 3\\nvalue = [3, 0]')]"
      ]
     },
     "execution_count": 77,
     "metadata": {},
     "output_type": "execute_result"
    },
    {
     "data": {
      "image/png": "[encoded data removed]",
      "text/plain": [
       "<Figure size 432x288 with 1 Axes>"
      ]
     },
     "metadata": {
      "needs_background": "light"
     },
     "output_type": "display_data"
    }
   ],
   "source": [
    "tree.plot_tree(dt)"
   ]
  },
  {
   "cell_type": "code",
   "execution_count": null,
   "id": "c0551f48",
   "metadata": {},
   "outputs": [],
   "source": []
  },
  {
   "cell_type": "code",
   "execution_count": null,
   "id": "0083a7e9",
   "metadata": {},
   "outputs": [],
   "source": []
  }
 ],
 "metadata": {
  "kernelspec": {
   "display_name": "Python 3",
   "language": "python",
   "name": "python3"
  },
  "language_info": {
   "codemirror_mode": {
    "name": "ipython",
    "version": 3
   },
   "file_extension": ".py",
   "mimetype": "text/x-python",
   "name": "python",
   "nbconvert_exporter": "python",
   "pygments_lexer": "ipython3",
   "version": "3.8.8"
  }
 },
 "nbformat": 4,
 "nbformat_minor": 5
}
